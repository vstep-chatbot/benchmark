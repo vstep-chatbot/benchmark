{
 "cells": [
  {
   "cell_type": "markdown",
   "metadata": {},
   "source": [
    "### Benchmarking the performance of tokenizers\n",
    "- Spacy\n",
    "- Underthesea\n",
    "- VnCoreNLP"
   ]
  },
  {
   "cell_type": "code",
   "execution_count": 1,
   "metadata": {},
   "outputs": [
    {
     "name": "stderr",
     "output_type": "stream",
     "text": [
      "/media/nam/Data/codeproj/THESIS/benchmark/.venv/lib/python3.10/site-packages/tqdm/auto.py:21: TqdmWarning: IProgress not found. Please update jupyter and ipywidgets. See https://ipywidgets.readthedocs.io/en/stable/user_install.html\n",
      "  from .autonotebook import tqdm as notebook_tqdm\n"
     ]
    }
   ],
   "source": [
    "# Format for data [sentence, [[word, entity], [word, entity],...]]\n",
    "import pprint\n",
    "from time import time as timer\n",
    "\n",
    "import pandas as pd\n",
    "from conllu import parse\n",
    "\n",
    "from tokenizer_wrappers.spacy import Spacy_tokenize\n",
    "from tokenizer_wrappers.underthesea import Underthesea_tokenize\n",
    "from tokenizer_wrappers.vncorenlp import VncoreNLP_tokenize"
   ]
  },
  {
   "cell_type": "code",
   "execution_count": 2,
   "metadata": {},
   "outputs": [],
   "source": [
    "data = {\n",
    "  \"Method\": [],\n",
    "  \"Word Segmentation\": [],\n",
    "  \"POS Tagging\": [],\n",
    "  \"Entity Recognition\": [],\n",
    "  \"Tagging Time\": [],\n",
    "}\n",
    "\n",
    "df = pd.DataFrame(data)"
   ]
  },
  {
   "cell_type": "markdown",
   "metadata": {},
   "source": [
    "#### Open the conllu\n",
    "- [Universal Dependencies - Vietnamese](https://github.com/UniversalDependencies/UD_Vietnamese-VTB)"
   ]
  },
  {
   "cell_type": "code",
   "execution_count": 3,
   "metadata": {},
   "outputs": [
    {
     "name": "stdout",
     "output_type": "stream",
     "text": [
      "TokenList<Thanh, bắt chuyện, với, Hùng, và, nói, :, \", Tôi, trông, ông, quen quen, ?, \", ., metadata={sent_id: \"text-s1\", text: \"Thanh bắt chuyện với Hùng và nói : \" Tôi trông ông quen quen ? \" .\"}>\n",
      "{'deprel': 'nsubj',\n",
      " 'deps': None,\n",
      " 'feats': None,\n",
      " 'form': 'Thanh',\n",
      " 'head': 2,\n",
      " 'id': 1,\n",
      " 'lemma': 'thanh',\n",
      " 'misc': None,\n",
      " 'upos': 'PROPN',\n",
      " 'xpos': 'NNP'}\n"
     ]
    }
   ],
   "source": [
    "with open(\"UD_Vietnamese-VTB/vi_vtb-ud-test.conllu\", \"r\", encoding=\"utf-8\") as f:\n",
    "  text = f.read()\n",
    "\n",
    "sentences = parse(text)\n",
    "print(sentences[0])\n",
    "pprint.pprint(sentences[0][0])"
   ]
  },
  {
   "cell_type": "code",
   "execution_count": 4,
   "metadata": {},
   "outputs": [],
   "source": [
    "text = \"\"\n",
    "sents: list[str] = []\n",
    "groundtruth = []\n",
    "\n",
    "for tokenlist in sentences:\n",
    "  tagged = []\n",
    "  sent = tokenlist.metadata[\"text\"]\n",
    "  for item in tokenlist:\n",
    "    # print(item['form'],item['xpos'])\n",
    "    tagged.append([item[\"form\"], item[\"xpos\"], \"\"])\n",
    "  text += sent + \" \"\n",
    "\n",
    "  groundtruth.append(tagged)\n",
    "  sents.append(sent)"
   ]
  },
  {
   "cell_type": "code",
   "execution_count": 5,
   "metadata": {},
   "outputs": [
    {
     "name": "stderr",
     "output_type": "stream",
     "text": [
      "/media/nam/Data/codeproj/THESIS/benchmark/.venv/lib/python3.10/site-packages/torch/cuda/__init__.py:716: UserWarning: Can't initialize NVML\n",
      "  warnings.warn(\"Can't initialize NVML\")\n",
      "/media/nam/Data/codeproj/THESIS/benchmark/.venv/lib/python3.10/site-packages/torch/__init__.py:1144: UserWarning: torch.set_default_tensor_type() is deprecated as of PyTorch 2.1, please use torch.set_default_dtype() and torch.set_default_device() as alternatives. (Triggered internally at ../torch/csrc/tensor/python_tensor.cpp:432.)\n",
      "  _C._set_default_tensor_type(t)\n"
     ]
    },
    {
     "name": "stdout",
     "output_type": "stream",
     "text": [
      "VnCoreNLP model folder . already exists! Please load VnCoreNLP from this folder!\n",
      "2025-01-08 16:37:31 INFO  WordSegmenter:24 - Loading Word Segmentation model\n",
      "2025-01-08 16:37:31 INFO  PosTagger:23 - Loading POS Tagging model\n",
      "2025-01-08 16:37:33 INFO  DependencyParser:32 - Loading Dependency Parsing model\n"
     ]
    }
   ],
   "source": [
    "for t in [Spacy_tokenize(), Underthesea_tokenize(), VncoreNLP_tokenize()]:\n",
    "  count = 0\n",
    "  wordcount = 0\n",
    "  poscount = 0\n",
    "  sercount = 0\n",
    "\n",
    "  time = 0\n",
    "  index = 0\n",
    "\n",
    "  for sent in sents:\n",
    "    start = timer()\n",
    "    predict = t.tokenize(sent)\n",
    "    time += timer() - start\n",
    "    count += len(groundtruth[index])\n",
    "\n",
    "    # 'Predict: ',predict,'Ground-truth: ', groundtruth[index]\n",
    "    if len(predict) == len(groundtruth[index]):\n",
    "      for item, gt in zip(predict, groundtruth[index]):  # item = [word, pos, entity]\n",
    "        if item[0] == gt[0]:\n",
    "          wordcount += 1\n",
    "        if item[1] == gt[1]:\n",
    "          poscount += 1\n",
    "        if item[2] == gt[2]:\n",
    "          sercount += 1\n",
    "    index += 1\n",
    "\n",
    "  # Corrected segmented word and entity / total word count\n",
    "  wordsegacc = wordcount / count\n",
    "  posacc = poscount / count\n",
    "  seracc = sercount / count\n",
    "\n",
    "  df.loc[len(df)] = [t.info(), wordsegacc, posacc, seracc, time]"
   ]
  },
  {
   "cell_type": "code",
   "execution_count": 12,
   "metadata": {},
   "outputs": [
    {
     "data": {
      "text/html": [
       "<style type=\"text/css\">\n",
       "#T_b3331_row0_col2, #T_b3331_row0_col4, #T_b3331_row2_col1, #T_b3331_row2_col3 {\n",
       "  font-weight: bold;\n",
       "}\n",
       "</style>\n",
       "<table id=\"T_b3331\">\n",
       "  <thead>\n",
       "    <tr>\n",
       "      <th class=\"blank level0\" >&nbsp;</th>\n",
       "      <th id=\"T_b3331_level0_col0\" class=\"col_heading level0 col0\" >Method</th>\n",
       "      <th id=\"T_b3331_level0_col1\" class=\"col_heading level0 col1\" >Word Segmentation</th>\n",
       "      <th id=\"T_b3331_level0_col2\" class=\"col_heading level0 col2\" >POS Tagging</th>\n",
       "      <th id=\"T_b3331_level0_col3\" class=\"col_heading level0 col3\" >Entity Recognition</th>\n",
       "      <th id=\"T_b3331_level0_col4\" class=\"col_heading level0 col4\" >Tagging Time</th>\n",
       "    </tr>\n",
       "  </thead>\n",
       "  <tbody>\n",
       "    <tr>\n",
       "      <th id=\"T_b3331_level0_row0\" class=\"row_heading level0 row0\" >0</th>\n",
       "      <td id=\"T_b3331_row0_col0\" class=\"data row0 col0\" >PyVi</td>\n",
       "      <td id=\"T_b3331_row0_col1\" class=\"data row0 col1\" >0.641635</td>\n",
       "      <td id=\"T_b3331_row0_col2\" class=\"data row0 col2\" >0.439617</td>\n",
       "      <td id=\"T_b3331_row0_col3\" class=\"data row0 col3\" >0.783100</td>\n",
       "      <td id=\"T_b3331_row0_col4\" class=\"data row0 col4\" >9.387427</td>\n",
       "    </tr>\n",
       "    <tr>\n",
       "      <th id=\"T_b3331_level0_row1\" class=\"row_heading level0 row1\" >1</th>\n",
       "      <td id=\"T_b3331_row1_col0\" class=\"data row1 col0\" >Underthesea</td>\n",
       "      <td id=\"T_b3331_row1_col1\" class=\"data row1 col1\" >0.651557</td>\n",
       "      <td id=\"T_b3331_row1_col2\" class=\"data row1 col2\" >0.267277</td>\n",
       "      <td id=\"T_b3331_row1_col3\" class=\"data row1 col3\" >0.662333</td>\n",
       "      <td id=\"T_b3331_row1_col4\" class=\"data row1 col4\" >3.463437</td>\n",
       "    </tr>\n",
       "    <tr>\n",
       "      <th id=\"T_b3331_level0_row2\" class=\"row_heading level0 row2\" >2</th>\n",
       "      <td id=\"T_b3331_row2_col0\" class=\"data row2 col0\" >VnCoreNLP</td>\n",
       "      <td id=\"T_b3331_row2_col1\" class=\"data row2 col1\" >0.809784</td>\n",
       "      <td id=\"T_b3331_row2_col2\" class=\"data row2 col2\" >0.358621</td>\n",
       "      <td id=\"T_b3331_row2_col3\" class=\"data row2 col3\" >0.814574</td>\n",
       "      <td id=\"T_b3331_row2_col4\" class=\"data row2 col4\" >1.643307</td>\n",
       "    </tr>\n",
       "  </tbody>\n",
       "</table>\n"
      ],
      "text/plain": [
       "<pandas.io.formats.style.Styler at 0x758163161420>"
      ]
     },
     "execution_count": 12,
     "metadata": {},
     "output_type": "execute_result"
    }
   ],
   "source": [
    "def bold_max(s):\n",
    "    is_max = s == s.max()\n",
    "    return ['font-weight: bold' if v else '' for v in is_max]\n",
    "\n",
    "styled_df = df.style.apply(bold_max, subset=['Word Segmentation', 'POS Tagging', 'Entity Recognition', 'Tagging Time'], axis=0)\n",
    "\n",
    "styled_df"
   ]
  }
 ],
 "metadata": {
  "kernelspec": {
   "display_name": ".venv",
   "language": "python",
   "name": "python3"
  },
  "language_info": {
   "codemirror_mode": {
    "name": "ipython",
    "version": 3
   },
   "file_extension": ".py",
   "mimetype": "text/x-python",
   "name": "python",
   "nbconvert_exporter": "python",
   "pygments_lexer": "ipython3",
   "version": "3.10.16"
  }
 },
 "nbformat": 4,
 "nbformat_minor": 2
}
