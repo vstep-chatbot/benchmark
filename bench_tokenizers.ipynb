{
 "cells": [
  {
   "cell_type": "markdown",
   "metadata": {},
   "source": [
    "### Benchmarking the performance of tokenizers\n",
    "- Spacy\n",
    "- Underthesea\n",
    "- VnCoreNLP"
   ]
  },
  {
   "cell_type": "code",
   "execution_count": 5,
   "metadata": {},
   "outputs": [
    {
     "name": "stderr",
     "output_type": "stream",
     "text": [
      "/media/nam/Data/codeproj/THESIS/benchmark/.venv/lib/python3.10/site-packages/tqdm/auto.py:21: TqdmWarning: IProgress not found. Please update jupyter and ipywidgets. See https://ipywidgets.readthedocs.io/en/stable/user_install.html\n",
      "  from .autonotebook import tqdm as notebook_tqdm\n"
     ]
    }
   ],
   "source": [
    "# Format for data [sentence, [[word, entity], [word, entity],...]]\n",
    "import pprint\n",
    "from time import time as timer\n",
    "\n",
    "import pandas as pd\n",
    "from conllu import parse\n",
    "\n",
    "from tokenizer_wrappers.spacy import Spacy_tokenize\n",
    "from tokenizer_wrappers.underthesea import Underthesea_tokenize\n",
    "from tokenizer_wrappers.vncorenlp import VncoreNLP_tokenize"
   ]
  },
  {
   "cell_type": "code",
   "execution_count": 6,
   "metadata": {},
   "outputs": [],
   "source": [
    "data = {\n",
    "  \"Method\": [],\n",
    "  \"Word Segmentation\": [],\n",
    "  \"POS Tagging\": [],\n",
    "  \"Entity Recognition\": [],\n",
    "  \"Tagging Time\": [],\n",
    "}\n",
    "\n",
    "df = pd.DataFrame(data)"
   ]
  },
  {
   "cell_type": "markdown",
   "metadata": {},
   "source": [
    "#### Open the conllu\n",
    "- [Universal Dependencies - Vietnamese](https://github.com/UniversalDependencies/UD_Vietnamese-VTB)"
   ]
  },
  {
   "cell_type": "code",
   "execution_count": 7,
   "metadata": {},
   "outputs": [
    {
     "name": "stdout",
     "output_type": "stream",
     "text": [
      "{'deprel': 'advcl',\n",
      " 'deps': None,\n",
      " 'feats': None,\n",
      " 'form': 'Trả lời',\n",
      " 'head': 6,\n",
      " 'id': 1,\n",
      " 'lemma': 'trả lời',\n",
      " 'misc': None,\n",
      " 'upos': 'VERB',\n",
      " 'xpos': 'V'}\n"
     ]
    }
   ],
   "source": [
    "with open(\"UD_Vietnamese-VTB/vi_vtb-ud-dev.conllu\", \"r\", encoding=\"utf-8\") as f:\n",
    "  text = f.read()\n",
    "\n",
    "sentences = parse(text)\n",
    "pprint.pprint(sentences[0][0])"
   ]
  },
  {
   "cell_type": "code",
   "execution_count": 8,
   "metadata": {},
   "outputs": [],
   "source": [
    "text = \"\"\n",
    "sents: list[str] = []\n",
    "groundtruth = []\n",
    "\n",
    "for tokenlist in sentences:\n",
    "  tagged = []\n",
    "  sent = tokenlist.metadata[\"text\"]\n",
    "  for item in tokenlist:\n",
    "    # print(item['form'],item['xpos'])\n",
    "    tagged.append([item[\"form\"], item[\"xpos\"], \"\"])\n",
    "  text += sent + \" \"\n",
    "\n",
    "  groundtruth.append(tagged)\n",
    "  sents.append(sent)"
   ]
  },
  {
   "cell_type": "code",
   "execution_count": 9,
   "metadata": {},
   "outputs": [
    {
     "name": "stderr",
     "output_type": "stream",
     "text": [
      "/media/nam/Data/codeproj/THESIS/benchmark/.venv/lib/python3.10/site-packages/torch/cuda/__init__.py:716: UserWarning: Can't initialize NVML\n",
      "  warnings.warn(\"Can't initialize NVML\")\n",
      "/media/nam/Data/codeproj/THESIS/benchmark/.venv/lib/python3.10/site-packages/torch/__init__.py:1144: UserWarning: torch.set_default_tensor_type() is deprecated as of PyTorch 2.1, please use torch.set_default_dtype() and torch.set_default_device() as alternatives. (Triggered internally at ../torch/csrc/tensor/python_tensor.cpp:432.)\n",
      "  _C._set_default_tensor_type(t)\n"
     ]
    },
    {
     "name": "stdout",
     "output_type": "stream",
     "text": [
      "VnCoreNLP model folder . already exists! Please load VnCoreNLP from this folder!\n",
      "2025-01-08 16:20:23 INFO  WordSegmenter:24 - Loading Word Segmentation model\n",
      "2025-01-08 16:20:23 INFO  PosTagger:23 - Loading POS Tagging model\n",
      "2025-01-08 16:20:25 INFO  DependencyParser:32 - Loading Dependency Parsing model\n"
     ]
    }
   ],
   "source": [
    "for t in [Spacy_tokenize(), Underthesea_tokenize(), VncoreNLP_tokenize()]:\n",
    "  count = 0\n",
    "  wordcount = 0\n",
    "  poscount = 0\n",
    "  sercount = 0\n",
    "\n",
    "  time = 0\n",
    "  index = 0\n",
    "\n",
    "  for sent in sents:\n",
    "    start = timer()\n",
    "    predict = t.tokenize(sent)\n",
    "    time += timer() - start\n",
    "    count += len(groundtruth[index])\n",
    "\n",
    "    # 'Predict: ',predict,'Ground-truth: ', groundtruth[index]\n",
    "    if len(predict) == len(groundtruth[index]):\n",
    "      for item, gt in zip(predict, groundtruth[index]):  # item = [word, pos, entity]\n",
    "        if item[0] == gt[0]:\n",
    "          wordcount += 1\n",
    "        if item[1] == gt[1]:\n",
    "          poscount += 1\n",
    "        if item[2] == gt[2]:\n",
    "          sercount += 1\n",
    "    index += 1\n",
    "\n",
    "  # Corrected segmented word and entity / total word count\n",
    "  wordsegacc = wordcount / count\n",
    "  posacc = poscount / count\n",
    "  seracc = sercount / count\n",
    "\n",
    "  df.loc[len(df)] = [t.info(), wordsegacc, posacc, seracc, time]"
   ]
  },
  {
   "cell_type": "code",
   "execution_count": 10,
   "metadata": {},
   "outputs": [
    {
     "data": {
      "text/html": [
       "<div>\n",
       "<style scoped>\n",
       "    .dataframe tbody tr th:only-of-type {\n",
       "        vertical-align: middle;\n",
       "    }\n",
       "\n",
       "    .dataframe tbody tr th {\n",
       "        vertical-align: top;\n",
       "    }\n",
       "\n",
       "    .dataframe thead th {\n",
       "        text-align: right;\n",
       "    }\n",
       "</style>\n",
       "<table border=\"1\" class=\"dataframe\">\n",
       "  <thead>\n",
       "    <tr style=\"text-align: right;\">\n",
       "      <th></th>\n",
       "      <th>Method</th>\n",
       "      <th>Word Segmentation</th>\n",
       "      <th>POS Tagging</th>\n",
       "      <th>Entity Recognition</th>\n",
       "      <th>Tagging Time</th>\n",
       "    </tr>\n",
       "  </thead>\n",
       "  <tbody>\n",
       "    <tr>\n",
       "      <th>0</th>\n",
       "      <td>PyVi</td>\n",
       "      <td>0.433300</td>\n",
       "      <td>0.228576</td>\n",
       "      <td>0.545868</td>\n",
       "      <td>15.567256</td>\n",
       "    </tr>\n",
       "    <tr>\n",
       "      <th>1</th>\n",
       "      <td>Underthesea</td>\n",
       "      <td>0.501720</td>\n",
       "      <td>0.222384</td>\n",
       "      <td>0.524769</td>\n",
       "      <td>8.921412</td>\n",
       "    </tr>\n",
       "    <tr>\n",
       "      <th>2</th>\n",
       "      <td>VnCoreNLP</td>\n",
       "      <td>0.624761</td>\n",
       "      <td>0.278343</td>\n",
       "      <td>0.637681</td>\n",
       "      <td>3.133295</td>\n",
       "    </tr>\n",
       "  </tbody>\n",
       "</table>\n",
       "</div>"
      ],
      "text/plain": [
       "        Method  Word Segmentation  POS Tagging  Entity Recognition  \\\n",
       "0         PyVi           0.433300     0.228576            0.545868   \n",
       "1  Underthesea           0.501720     0.222384            0.524769   \n",
       "2    VnCoreNLP           0.624761     0.278343            0.637681   \n",
       "\n",
       "   Tagging Time  \n",
       "0     15.567256  \n",
       "1      8.921412  \n",
       "2      3.133295  "
      ]
     },
     "execution_count": 10,
     "metadata": {},
     "output_type": "execute_result"
    }
   ],
   "source": [
    "df"
   ]
  }
 ],
 "metadata": {
  "kernelspec": {
   "display_name": ".venv",
   "language": "python",
   "name": "python3"
  },
  "language_info": {
   "codemirror_mode": {
    "name": "ipython",
    "version": 3
   },
   "file_extension": ".py",
   "mimetype": "text/x-python",
   "name": "python",
   "nbconvert_exporter": "python",
   "pygments_lexer": "ipython3",
   "version": "3.10.16"
  }
 },
 "nbformat": 4,
 "nbformat_minor": 2
}
